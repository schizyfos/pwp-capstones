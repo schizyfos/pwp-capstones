{
 "cells": [
  {
   "cell_type": "markdown",
   "metadata": {},
   "source": [
    "# Preamble: A Brand New Jay\n",
    "\n",
    "After an eventful season on season 8 of *A Brand New Jay*, the 3 remaining contestants were invited to Jay Stacksby's private island for the last three episodes. When the day of filming the finale came Mr. Stacksby was found with one of his Professional Series 8-inch Chef Knives plunged through his heart! After the initial investigation highlighted that the film crew all lived in a separate house on the other side of the island, it was concluded that only the three contestants were near enough to Stacksby in order to commit a crime. At the scene of the crime, a letter was left. Here are the contents of that letter:\n",
    "\n",
    "> You may call me heartless, a killer, a monster, a murderer, but I'm still NOTHING compared to the villian that Jay was. This whole contest was a sham, an elaborate plot to shame the contestants and feed Jay's massive, massive ego. SURE you think you know him! You've seen him smiling for the cameras, laughing, joking, telling stories, waving his money around like a prop but off camera he was a sinister beast, a cruel cruel taskmaster, he treated all of us like slaves, like cattle, like animals! Do you remember Lindsay, she was the first to go, he called her such horrible things that she cried all night, keeping up all up, crying, crying, and more crying, he broke her with his words. I miss my former cast members, all of them very much. And we had to live with him, live in his home, live in his power, deal with his crazy demands. AND FOR WHAT! DID YOU KNOW THAT THE PRIZE ISN'T REAL? He never intended to marry one of us! The carrot on the stick was gone, all that was left was stick, he told us last night that we were all a terrible terrible disappointment and none of us would ever amount to anything, and that regardless of who won the contest he would never speak to any of us again! It's definitely the things like this you can feel in your gut how wrong he is! Well I showed him, he got what he deserved all right, I showed him, I showed him the person I am! I wasn't going to be pushed around any longer, and I wasn't going to let him go on pretending that he was some saint when all he was was a sick sick twisted man who deserved every bit of what he got. The fans need to know, Jay Stacksby is a vile amalgamation of all things evil and bad and the world is a better place without him.\n",
    "\n",
    "Pretty sinister stuff! Luckily, in addition to this bold-faced admission, we have the introduction letters of the three contestants. Maybe there is a way to use this information to determine who the author of this murder letter is?\n",
    "\n",
    "Myrtle Beech's introduction letter:\n",
    "> Salutations. My name? Myrtle. Myrtle Beech. I am a woman of simple tastes. I enjoy reading, thinking, and doing my taxes. I entered this competition because I want a serious relationship. I want a commitment. The last man I dated was too whimsical. He wanted to go on dates that had no plan. No end goal. Sometimes we would just end up wandering the streets after dinner. He called it a \"walk\". A \"walk\" with no destination. Can you imagine? I like every action I take to have a measurable effect. When I see a movie, I like to walk away with insights that I did not have before. When I take a bike ride, there better be a worthy destination at the end of the bike path. Jay seems frivolous at times. This worries me. However, it is my staunch belief that one does not make and keep money without having a modicum of discipline. As such, I am hopeful. I will now list three things I cannot live without. Water. Emery boards. Dogs. Thank you for the opportunity to introduce myself. I look forward to the competition. \n",
    "\n",
    "Lily Trebuchet's introduction letter:\n",
    "> Hi, I'm Lily Trebuchet from East Egg, Long Island. I love cats, hiking, and curling up under a warm blanket with a book. So they gave this little questionnaire to use for our bios so lets get started. What are some of my least favorite household chores? Dishes, oh yes it's definitely the dishes, I just hate doing them, don't you? Who is your favorite actor and why? Hmm, that's a hard one, but I think recently I'll have to go with Michael B. Jordan, every bit of that man is handsome, HANDSOME! Do you remember seeing him shirtless? I can't believe what he does for the cameras! Okay okay next question, what is your perfect date? Well it starts with a nice dinner at a delicious but small restaurant, you know like one of those places where the owner is in the back and comes out to talk to you and ask you how your meal was. My favorite form of art? Another hard one, but I think I'll have to go with music, music you can feel in your whole body and it is electrifying and best of all, you can dance to it! Okay final question, let's see, What are three things you cannot live without? Well first off, my beautiful, beautiful cat Jerry, he is my heart and spirit animal. Second is pasta, definitely pasta, and the third I think is my family, I love all of them very much and they support me in everything I do. I know Jay Stacksby is a handsome man and all of us want to be the first to walk down the aisle with him, but I think he might truly be the one for me. Okay that's it for the bio, I hope you have fun watching the show! \n",
    "\n",
    "Gregg T Fishy's introduction letter:\n",
    "\n",
    "> A good day to you all, I am Gregg T Fishy, of the Fishy Enterprise fortune. I am 37 years young. An adventurous spirit and I've never lost my sense of childlike wonder. I do love to be in the backyard gardening and I have the most extraordinary time when I'm fishing. Fishing for what, you might ask? Why, fishing for compliments of course! I have a stunning pair of radiant blue eyes. They will pierce the soul of anyone who dare gaze upon my countenance. I quite enjoy going on long jaunts through garden paths and short walks through greenhouses. I hope that Jay will be as absolutely interesting as he appears on the television. I find that he has some of the most curious tastes in style and humor. When I'm out and about I quite enjoy hearing tales that instill in my heart of hearts the fascination that beguiles my every day life. Every fiber of my being scintillates and vascillates with extreme pleasure during one of these charming anecdotes and significantly pleases my beautiful personage. I cannot wait to enjoy being on A Brand New Jay. It certainly seems like a grand time to explore life and love."
   ]
  },
  {
   "cell_type": "markdown",
   "metadata": {},
   "source": [
    "## Saving The Different Examples as Variables\n",
    "\n",
    "First let's create variables to hold the text data in! Save the muder note as a string in a variable called `murder_note`. Save Lily Trebuchet's introduction into `lily_trebuchet_intro`. Save Myrtle Beech's introduction into `myrtle_beech_intro`. Save Gregg T Fishy's introduction into `gregg_t_fishy_intro`."
   ]
  },
  {
   "cell_type": "code",
   "execution_count": 401,
   "metadata": {},
   "outputs": [],
   "source": [
    "# String variables\n",
    "murder_note = \"You may call me heartless, a killer, a monster, a murderer, but I'm still NOTHING compared to the villian that Jay was. This whole contest was a sham, an elaborate plot to shame the contestants and feed Jay's massive, massive ego. SURE you think you know him! You've seen him smiling for the cameras, laughing, joking, telling stories, waving his money around like a prop but off camera he was a sinister beast, a cruel cruel taskmaster, he treated all of us like slaves, like cattle, like animals! Do you remember Lindsay, she was the first to go, he called her such horrible things that she cried all night, keeping up all up, crying, crying, and more crying, he broke her with his words. I miss my former cast members, all of them very much. And we had to live with him, live in his home, live in his power, deal with his crazy demands. AND FOR WHAT! DID YOU KNOW THAT THE PRIZE ISN'T REAL? He never intended to marry one of us! The carrot on the stick was gone, all that was left was stick, he told us last night that we were all a terrible terrible disappointment and none of us would ever amount to anything, and that regardless of who won the contest he would never speak to any of us again! It's definitely the things like this you can feel in your gut how wrong he is! Well I showed him, he got what he deserved all right, I showed him, I showed him the person I am! I wasn't going to be pushed around any longer, and I wasn't going to let him go on pretending that he was some saint when all he was was a sick sick twisted man who deserved every bit of what he got. The fans need to know, Jay Stacksby is a vile amalgamation of all things evil and bad and the world is a better place without him.\"\n",
    "myrtle_beech_intro = \"Salutations. My name? Myrtle. Myrtle Beech. I am a woman of simple tastes. I enjoy reading, thinking, and doing my taxes. I entered this competition because I want a serious relationship. I want a commitment. The last man I dated was too whimsical. He wanted to go on dates that had no plan. No end goal. Sometimes we would just end up wandering the streets after dinner. He called it a \\\"walk\\\". A \\\"walk\\\" with no destination. Can you imagine? I like every action I take to have a measurable effect. When I see a movie, I like to walk away with insights that I did not have before. When I take a bike ride, there better be a worthy destination at the end of the bike path. Jay seems frivolous at times. This worries me. However, it is my staunch belief that one does not make and keep money without having a modicum of discipline. As such, I am hopeful. I will now list three things I cannot live without. Water. Emery boards. Dogs. Thank you for the opportunity to introduce myself. I look forward to the competition.\"\n",
    "lily_trebuchet_intro = \"Hi, I'm Lily Trebuchet from East Egg, Long Island. I love cats, hiking, and curling up under a warm blanket with a book. So they gave this little questionnaire to use for our bios so lets get started. What are some of my least favorite household chores? Dishes, oh yes it's definitely the dishes, I just hate doing them, don't you? Who is your favorite actor and why? Hmm, that's a hard one, but I think recently I'll have to go with Michael B. Jordan, every bit of that man is handsome, HANDSOME! Do you remember seeing him shirtless? I can't believe what he does for the cameras! Okay okay next question, what is your perfect date? Well it starts with a nice dinner at a delicious but small restaurant, you know like one of those places where the owner is in the back and comes out to talk to you and ask you how your meal was. My favorite form of art? Another hard one, but I think I'll have to go with music, music you can feel in your whole body and it is electrifying and best of all, you can dance to it! Okay final question, let's see, What are three things you cannot live without? Well first off, my beautiful, beautiful cat Jerry, he is my heart and spirit animal. Second is pasta, definitely pasta, and the third I think is my family, I love all of them very much and they support me in everything I do. I know Jay Stacksby is a handsome man and all of us want to be the first to walk down the aisle with him, but I think he might truly be the one for me. Okay that's it for the bio, I hope you have fun watching the show!\"\n",
    "gregg_t_fishy_intro = \"A good day to you all, I am Gregg T Fishy, of the Fishy Enterprise fortune. I am 37 years young. An adventurous spirit and I've never lost my sense of childlike wonder. I do love to be in the backyard gardening and I have the most extraordinary time when I'm fishing. Fishing for what, you might ask? Why, fishing for compliments of course! I have a stunning pair of radiant blue eyes. They will pierce the soul of anyone who dare gaze upon my countenance. I quite enjoy going on long jaunts through garden paths and short walks through greenhouses. I hope that Jay will be as absolutely interesting as he appears on the television. I find that he has some of the most curious tastes in style and humor. When I'm out and about I quite enjoy hearing tales that instill in my heart of hearts the fascination that beguiles my every day life. Every fiber of my being scintillates and vascillates with extreme pleasure during one of these charming anecdotes and significantly pleases my beautiful personage. I cannot wait to enjoy being on A Brand New Jay. It certainly seems like a grand time to explore life and love.\""
   ]
  },
  {
   "cell_type": "markdown",
   "metadata": {},
   "source": [
    "## The First Indicator: Sentence Length\n",
    "\n",
    "Perhaps some meaningful data can first be gleaned from these text examples if we measure how long the average sentence length is. Different authors have different patterns of written speech, so this could be very useful in tracking down the killer.\n",
    "\n",
    "Write a function `get_average_sentence_length` that takes some `text` as an argument. This function should return the average length of a sentence in the text.\n",
    "\n",
    "Hint (highlight this hint in order to reveal it): \n",
    "<font color=\"white\">Use your knowledge of _string methods_ to create a list of all of the sentences in a text, called **sentences_in_text**. \n",
    "Further break up each **sentences_in_text** into a list of words and save the _length_ of that list of words to a new list that contains all the sentence lengths, called **sentence_lengths**. Take the average of all of the sentence lengths by adding them all together and dividing by the number of sentences (which should be the same as the length of the **sentence_lengths**).\n",
    "\n",
    "Remember sentences can end with more than one kind of punctuation, you might find it easiest to use **.replace()** so you only have to split on one punctuation mark. Remember **.replace()** doesn't modify the string itself, it returns a new string!</font>"
   ]
  },
  {
   "cell_type": "markdown",
   "metadata": {},
   "source": [
    "## Creating The Definition for Our Model\n",
    "\n",
    "Now that we have a metric we want to save and data that is coupled with that metric, it might be time to create our data type. Let's define a class called `TextSample` with a constructor. The constructor should take two arguments: `text` and `author`. `text` should be saved as `self.raw_text`. Call `get_average_sentence_length` with the raw text and save it to `self.average_sentence_length`. You should save the author of the text as `self.author`.\n",
    "\n",
    "Additionally, define a string representation for the model. If you print a `TextSample` it should render:\n",
    " - The author's name\n",
    " - The average sentence length\n",
    " \n",
    "This will be your main class for the problem at hand. All later instruction to update `TextSample` should be done in the code block below. After updating `TextSample`, click on the `Cell` option in the Jupyter Notebook main menu above, then click `Run All` to rerun the cells from top to bottom. If you need to restart your Jupyter Notebook either run the cells below first or move the `TextSample` class definition & instantiation cells to the bottom."
   ]
  },
  {
   "cell_type": "code",
   "execution_count": 402,
   "metadata": {},
   "outputs": [],
   "source": [
    "# Model definitions\n",
    "class TextSample:\n",
    "    def __init__(self, text, author):\n",
    "      self.raw_text = text\n",
    "      self.author = author\n",
    "      self.average_sentence_length = get_average_sentence_length(self.raw_text)\n",
    "#     self.prepared_text = get_prepared_text(self.raw_text) - did not work so I \n",
    "#     have left it out and use the get_prepared_text without and all other \n",
    "#     TextSample functions without listing them here as a self.variables\n",
    "\n",
    "    def __repr__(self):\n",
    "       return 'The avg sentence length of the letter, written by ' + self.author + ' has ' + str(round(self.average_sentence_length,2))  \n",
    "        \n",
    "    def get_average_sentence_length(self, text):\n",
    "# principle: slicing text to sentences and sentences to chars via set of punctuations (ch_end)\n",
    "      sent_count = 0\n",
    "      char_count = 0\n",
    "      is_end = False\n",
    "      ch_end = {'?', '!', '.'}\n",
    "      for ch in self.raw_text:\n",
    "        char_count += 1\n",
    "        if ch in ch_end:\n",
    "#         print(ch)\n",
    "          if not is_end:\n",
    "            is_end = True\n",
    "            sent_count += 1\n",
    "          continue\n",
    "        is_end = False\n",
    "#     print(char_count)\n",
    "#     print(sent_count)\n",
    "      return char_count/sent_count\n",
    "    \n",
    "    def get_prepared_text(self,text):\n",
    "# principle: punctuation replacement to spaces via re(), turn to lowercase letters, split from string to list\n",
    "      import re\n",
    "      cleaned = re.sub(r\"[,.;\\\"@#?!&$]+\\ *\", \" \", self.raw_text).lower()\n",
    "#     print(cleaned)\n",
    "      return cleaned.split()\n",
    "    \n",
    "    def frequency_table(self, text):\n",
    "# principle: slicing list into dictionary via keys()\n",
    "      freq_tab ={}\n",
    "      for i in text:\n",
    "        if i in freq_tab.keys():\n",
    "          freq_tab[i] = 1 + freq_tab[i]\n",
    "        else:\n",
    "          freq_tab[i] = 1\n",
    "      return freq_tab\n",
    "\n",
    "    def sorted_table(self, text):\n",
    "# principle: via lambda() \n",
    "      sorted_tab = sorted(text.items(), key=lambda item: item[1], reverse=True)\n",
    "#     top10 = {k: sorted_tab[k] for k in list(sorted_tab)[:10]}\n",
    "#      print(sorted_tab)\n",
    "#      print(\"\\n\")\n",
    "#      print(\"\\n\")\n",
    "      return sorted_tab\n",
    "            \n",
    "    def ngram_creator(self, text):\n",
    "# principle: via join\n",
    "      ngrams_lst = []\n",
    "      for num in range(0, len(text)):\n",
    "# principle: the number creates bigrams, trigrams, etc.\n",
    "        ngram = ' '.join(text[num:num + 2])\n",
    "        ngrams_lst.append(ngram)\n",
    "      return ngrams_lst\n",
    "\n",
    "    def frequency_comparison(self, table1, table2):\n",
    "        appearances = 0\n",
    "        mutual_appearances = 0\n",
    "        for key in table1:\n",
    "          if key in table2:\n",
    "            appearances += max(table1[key],table2[key])\n",
    "            mutual_appearances += min(table1[key], table2[key])\n",
    "          appearances += table1[key]\n",
    "        for key in table2:\n",
    "          if key not in table1:\n",
    "            appearances += table2[key]    \n",
    "        return mutual_appearances/(appearances+mutual_appearances)\n",
    "    \n",
    "    def percent_difference(self, text1, text2):\n",
    "        value1 = get_average_sentence_length(text1)\n",
    "        value2 = get_average_sentence_length(text2)\n",
    "        numer = abs(value1 - value2)\n",
    "        denom = (value1 + value2)/2\n",
    "        return numer/denom     "
   ]
  },
  {
   "cell_type": "markdown",
   "metadata": {},
   "source": [
    "### Creating our TextSample Instances\n",
    "\n",
    "Now create a `TextSample` object for each of the samples of text that we have.\n",
    " - `murderer_sample` for the murderer's note.\n",
    " - `lily_sample` for Lily Trebuchet's note.\n",
    " - `myrtle_sample` for Myrtle Beech's note.\n",
    " - `gregg_sample` for Gregg T Fishy's note.\n",
    " \n",
    "Print out each one after instantiating them."
   ]
  },
  {
   "cell_type": "code",
   "execution_count": 403,
   "metadata": {
    "scrolled": true
   },
   "outputs": [
    {
     "name": "stdout",
     "output_type": "stream",
     "text": [
      "The avg sentence length of the letter, written by Murderer has 113.73\n",
      "The avg sentence length of the letter, written by Myrtle Beech has 36.29\n",
      "The avg sentence length of the letter, written by Lily Trebuchet has 80.74\n",
      "The avg sentence length of the letter, written by Greg T Fishy has 74.27\n"
     ]
    }
   ],
   "source": [
    "# Objects creation and first indicator preliminary evaluation\n",
    "murderer_sample = TextSample(murder_note, 'Murderer')\n",
    "print(murderer_sample)\n",
    "myrtle_sample = TextSample(myrtle_beech_intro, 'Myrtle Beech')\n",
    "print(myrtle_sample)\n",
    "lily_sample = TextSample(lily_trebuchet_intro, 'Lily Trebuchet')\n",
    "print(lily_sample)\n",
    "greg_sample = TextSample(gregg_t_fishy_intro, 'Greg T Fishy')\n",
    "print(greg_sample)\n",
    "# pointing to Lily"
   ]
  },
  {
   "cell_type": "markdown",
   "metadata": {},
   "source": [
    "## Cleaning Our Data\n",
    "\n",
    "We want to compare the word choice and usage between the samples, but sentences make our text data fairly messy. In order to analyze the different messages fairly, we'll need to remove all the punctuation and uppercase letters from the samples.\n",
    "\n",
    "Create a function called `prepare_text` that takes a single parameter `text`, makes the text entirely lowercase, removes all the punctuation and returns a list of the words in the text in order.\n",
    "\n",
    "For example: `\"Where did you go, friend? We nearly saw each other.\"` would become `['where', 'did', 'you', 'go', 'friend', 'we', 'nearly', 'saw', 'each', 'other']`."
   ]
  },
  {
   "cell_type": "markdown",
   "metadata": {},
   "source": [
    "Update the constructor for `TextSample` to save the prepared text as `self.prepared_text`."
   ]
  },
  {
   "cell_type": "code",
   "execution_count": 404,
   "metadata": {},
   "outputs": [],
   "source": [
    "# Cleaning\n",
    "murder_note_cln = murderer_sample.get_prepared_text(murder_note)\n",
    "myrtle_intro_cln = myrtle_sample.get_prepared_text(myrtle_beech_intro)\n",
    "lily_intro_cln = lily_sample.get_prepared_text(lily_trebuchet_intro)\n",
    "greg_intro_cln = greg_sample.get_prepared_text(gregg_t_fishy_intro)"
   ]
  },
  {
   "cell_type": "markdown",
   "metadata": {},
   "source": [
    "## Building A Frequency Table\n",
    "\n",
    "Now we want to see which words were most frequently used in each of the samples. Create a function called `build_frequency_table`. It takes in a list called `corpus` and creates a dictionary called `frequency_table`. For every element in `corpus` the value `frequency_table[element]` should be equal to the number of times that element appears in `corpus`. For example the input `['do', 'you', 'see', 'what', 'i', 'see']` would create the frequency table `{'what': 1, 'you': 1, 'see' 2, 'i': 1}`."
   ]
  },
  {
   "cell_type": "code",
   "execution_count": 405,
   "metadata": {},
   "outputs": [],
   "source": [
    "# Frequency tables\n",
    "murder_note_frq = murderer_sample.frequency_table(murder_note_cln)\n",
    "myrtle_intro_frq = myrtle_sample.frequency_table(myrtle_intro_cln)\n",
    "lily_intro_frq = lily_sample.frequency_table(lily_intro_cln)\n",
    "greg_intro_frq = greg_sample.frequency_table(greg_intro_cln)      "
   ]
  },
  {
   "cell_type": "markdown",
   "metadata": {},
   "source": [
    "## The Second Indicator: Favorite Words\n",
    "\n",
    "Use `build_frequency_table` with the prepared text to create a frequency table that counts how frequently all the words in each text sample appears. Call these functions in the constructor for `TextSample` and assign the word frequency table to a value called `self.word_count_frequency`."
   ]
  },
  {
   "cell_type": "code",
   "execution_count": 406,
   "metadata": {},
   "outputs": [],
   "source": [
    "# Favourite words tables\n",
    "murder_note_ord = murderer_sample.sorted_table(murder_note_frq)\n",
    "myrtle_intro_ord = myrtle_sample.sorted_table(myrtle_intro_frq)\n",
    "lily_intro_ord = lily_sample.sorted_table(lily_intro_frq)\n",
    "greg_intro_ord = greg_sample.sorted_table(greg_intro_frq)"
   ]
  },
  {
   "cell_type": "markdown",
   "metadata": {},
   "source": [
    "## The Third Indicator: N-Grams\n",
    "\n",
    "An <a href='https://en.wikipedia.org/wiki/N-gram' target=\"_blank\">n-gram</a> is a text analysis technique used for pattern recognition and applicable throughout lingusitics. We're going to use n-grams to find who uses similar word-pairs to the murderer, and we think it's going to make our evidence strong enough to conclusively find the killer.\n",
    "\n",
    "Create a function called `ngram_creator` that takes a parameter `text_list`, a treated in-order list of the words in a text sample. `ngram_creator` should return a list of all adjacent pairs of words, styled as strings with a space in the center.\n",
    "\n",
    "For instance, calling `ngram_creator` with the input `['what', 'in', 'the', 'world', 'is', 'going', 'on']`\n",
    "Should produce the output `['what in', 'in the', 'the world', 'world is', 'is going', 'going on']`.\n",
    "\n",
    "These are two-word n-grams."
   ]
  },
  {
   "cell_type": "markdown",
   "metadata": {},
   "source": [
    "def ngram_creator(self, text):\n",
    "      import re\n",
    "      cleaned = re.sub(r\"[,.;@#?!&$]+\\ *\", \" \", self.raw_text).lower()\n",
    "      tokens = [x for x in cleaned.split(\" \") if x != \"\"]\n",
    "      ngrams = zip(*[x[i:] for i in range(2)])\n",
    "      return [\" \".join(ngram) for ngram in ngrams]\n",
    "      \n",
    "murderer_sample.ngram_creator(murder_note.cln)"
   ]
  },
  {
   "cell_type": "code",
   "execution_count": 407,
   "metadata": {
    "scrolled": true
   },
   "outputs": [],
   "source": [
    "# n-gram tables\n",
    "murder_ngram = murderer_sample.ngram_creator(murder_note_cln)\n",
    "myrtle_ngram = myrtle_sample.ngram_creator(myrtle_intro_cln)\n",
    "lily_ngram = myrtle_sample.ngram_creator(lily_intro_cln)\n",
    "greg_ngram = greg_sample.ngram_creator(greg_intro_cln)"
   ]
  },
  {
   "cell_type": "code",
   "execution_count": 408,
   "metadata": {},
   "outputs": [],
   "source": [
    "# bigram frequencies for all 4\n",
    "murder_ngram_frq = murderer_sample.frequency_table(murder_ngram)\n",
    "myrtle_ngram_frq = myrtle_sample.frequency_table(myrtle_ngram)\n",
    "lily_ngram_frq = lily_sample.frequency_table(lily_ngram)\n",
    "greg_ngram_frq = greg_sample.frequency_table(greg_ngram)  "
   ]
  },
  {
   "cell_type": "markdown",
   "metadata": {},
   "source": [
    "## Comparing Two Frequency Tables\n",
    "\n",
    "We want to know how similar two frequency tables are, let's write a function that computes the comparison between two frequency tables and scores them based on similarity.\n",
    "\n",
    "Write a function called `frequency_comparison` that takes two parameters, `table1` and `table2`. It should define two local variables, `appearances` and `mutual_appearances`. \n",
    "\n",
    "Iterate through `table1`'s keys and check if `table2` has the same key defined. If it is, compare the two values for the key -- the smaller value should get added to `mutual_appearances` and the larger should get added to `appearances`. If the key doesn't exist in `table2` the value for the key in `table1` should be added to `appearances`.\n",
    "\n",
    "Remember afterwards to iterate through all of `table2`'s keys that aren't in `table1` and add those to `appearances` as well.\n",
    "\n",
    "Return a frequency comparison score equal to the mutual appearances divided by the total appearances."
   ]
  },
  {
   "cell_type": "code",
   "execution_count": 409,
   "metadata": {},
   "outputs": [
    {
     "name": "stdout",
     "output_type": "stream",
     "text": [
      "0.11161387631975868\n",
      "0.1460122699386503\n",
      "0.10892586989409984\n"
     ]
    }
   ],
   "source": [
    "# wordcount similarities, (3 intros versus murder-note)\n",
    "word_count_similarity_myrtle = murderer_sample.frequency_comparison(murder_note_frq, myrtle_intro_frq)\n",
    "print(word_count_similarity_myrtle)\n",
    "word_count_similarity_lily = murderer_sample.frequency_comparison(murder_note_frq, lily_intro_frq)\n",
    "print(word_count_similarity_lily)\n",
    "word_count_similarity_greg = murderer_sample.frequency_comparison(murder_note_frq, greg_intro_frq)\n",
    "print (word_count_similarity_greg)\n",
    "# pointing to Lily"
   ]
  },
  {
   "cell_type": "code",
   "execution_count": 410,
   "metadata": {},
   "outputs": [
    {
     "name": "stdout",
     "output_type": "stream",
     "text": [
      "0.011406844106463879\n",
      "0.050595238095238096\n",
      "0.016605166051660517\n"
     ]
    }
   ],
   "source": [
    "# bigram similarities, (3 intros versus murder_note)\n",
    "bigram_similarity_myrtle = murderer_sample.frequency_comparison(murder_ngram_frq, myrtle_ngram_frq)\n",
    "print(bigram_similarity_myrtle)\n",
    "bigram_similarity_lily = murderer_sample.frequency_comparison(murder_ngram_frq, lily_ngram_frq)\n",
    "print(bigram_similarity_lily)\n",
    "bigram_similarity_greg = murderer_sample.frequency_comparison(murder_ngram_frq, greg_ngram_frq)\n",
    "print (bigram_similarity_greg)\n",
    "\n",
    "# Pointing to Lily "
   ]
  },
  {
   "cell_type": "markdown",
   "metadata": {},
   "source": [
    "## Comparing Average Sentence Length\n",
    "\n",
    "In order to calculate the change between the average sentence lengths of two `TextSamples` we're going to use the formula for the percent difference.\n",
    "\n",
    "Write a function called `percent_difference` that returns the percent difference as calculated from the following formula:\n",
    "\n",
    "$$\\frac{|\\ value1 - value2\\ |}{\\frac{value1 + value2}{2}}$$\n",
    "\n",
    "In the numerator is the absolute value (use `abs()`) of the two values subtracted from each other. In the denominator is the average of the two values (value1 + value2 divided by two)."
   ]
  },
  {
   "cell_type": "code",
   "execution_count": 411,
   "metadata": {},
   "outputs": [
    {
     "name": "stdout",
     "output_type": "stream",
     "text": [
      "1.0325038090401217\n",
      "0.33934757505773666\n",
      "0.4198581560283688\n"
     ]
    }
   ],
   "source": [
    "# Percent differences\n",
    "murder_myrtle_perc = murderer_sample.percent_difference(murder_note, myrtle_beech_intro)\n",
    "print(murder_myrtle_perc)\n",
    "murder_lily_perc = murderer_sample.percent_difference(murder_note, lily_trebuchet_intro)\n",
    "print(murder_lily_perc)\n",
    "murder_greg_perc = murderer_sample.percent_difference(murder_note, gregg_t_fishy_intro)\n",
    "print(murder_greg_perc)\n",
    "\n",
    "# pointing to Lily"
   ]
  },
  {
   "cell_type": "markdown",
   "metadata": {},
   "source": [
    "## Scoring Similarity with All Three Indicators\n",
    "\n",
    "We want to figure out who did it, so let's use all three of the indicators we built to score text similarity. Define a function `find_text_similarity` that takes two `TextSample` arguments and returns a float between 0 and 1 where 0 means completely different and 1 means the same exact sample. You can evaluate the similarity by the following criteria:\n",
    "\n",
    "- Calculate the percent difference of their average sentence length using `percent_difference`. Save that into a variable called `sentence_length_difference`. Since we want to find how _similar_ the two passages are calculate the inverse of `sentence_length_difference` by using the formula `abs(1 - sentence_length_difference)`. Save that into a variable called `sentence_length_similarity`.\n",
    "- Calculate the difference between their word usage using `frequency_comparison` on both `TextSample`'s `word_count_frequency` attributes. Save that into a variable called `word_count_similarity`.\n",
    "- Calculate the difference between their two-word ngram using `frequency_table` on both `TextSample`'s `ngram_frequency` attributes. Save that into a variable called `ngram_similarity`.\n",
    "- Add all three similarities together and divide by 3."
   ]
  },
  {
   "cell_type": "markdown",
   "metadata": {},
   "source": [
    "## Rendering the Results\n",
    "\n",
    "We want to print out the results in a way that we can read! For each contestant on _A Brand New Jay_ print out the following:\n",
    "\n",
    "- Their name\n",
    "- Their similarity score to the murder letter"
   ]
  },
  {
   "cell_type": "code",
   "execution_count": 417,
   "metadata": {
    "scrolled": false
   },
   "outputs": [
    {
     "name": "stdout",
     "output_type": "stream",
     "text": [
      "Myrtle Beech's total score :0.1555245294663443\n",
      "Lily Trebuchet's total score :0.8572599329761518\n",
      "Gregg T. Fischy's total score :0.7056728799173917\n"
     ]
    }
   ],
   "source": [
    "# Overal score - here I've decided to proceed differently from the given instructions. I have kept the original \n",
    "# results in real numbers without transforming them into the categorical 1/0 evaluation, so the highest total \n",
    "# is the closest to the killer´s letter, ie. she/he is the killer.\n",
    "myrtleTotal = word_count_similarity_myrtle + bigram_similarity_myrtle + abs(1 - murder_myrtle_perc)\n",
    "print(\"Myrtle Beech's total score :\" + str(myrtleTotal))\n",
    "lilyTotal = word_count_similarity_lily + bigram_similarity_lily + abs(1 - murder_lily_perc)\n",
    "print(\"Lily Trebuchet's total score :\" + str(lilyTotal))\n",
    "gregTotal = word_count_similarity_greg + bigram_similarity_greg + abs(1 - murder_greg_perc)\n",
    "print(\"Gregg T. Fischy's total score :\" + str(gregTotal))"
   ]
  },
  {
   "cell_type": "markdown",
   "metadata": {},
   "source": [
    "# Who Dunnit?\n",
    "\n",
    "In the cell below, print the name of the person who killed Jay Stacksby."
   ]
  },
  {
   "cell_type": "code",
   "execution_count": null,
   "metadata": {},
   "outputs": [],
   "source": [
    "Lily Trebuchet"
   ]
  }
 ],
 "metadata": {
  "kernelspec": {
   "display_name": "Python 3",
   "language": "python",
   "name": "python3"
  },
  "language_info": {
   "codemirror_mode": {
    "name": "ipython",
    "version": 3
   },
   "file_extension": ".py",
   "mimetype": "text/x-python",
   "name": "python",
   "nbconvert_exporter": "python",
   "pygments_lexer": "ipython3",
   "version": "3.7.2"
  }
 },
 "nbformat": 4,
 "nbformat_minor": 2
}
